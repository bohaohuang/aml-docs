{
 "cells": [
  {
   "cell_type": "markdown",
   "metadata": {},
   "source": [
    "# Install Tensorflow with GPU Support on Ubuntu"
   ]
  },
  {
   "cell_type": "markdown",
   "metadata": {},
   "source": [
    "This document aimed for installing Tensorflow with GPU support on ubuntu. All the information comes from [tensorflow installation guide](https://www.tensorflow.org/install/install_linux) and _StackOverflow_ as well as _askUbuntu_.  \n",
    "I assume you have a machine with [CUDA supported Nvidia GPUs](https://developer.nvidia.com/cuda-gpus) and a linux system (ubuntu for this document) installed.  \n",
    "If you are just interested in installing cpu version tensorflow, you can jump to _Step 4_. Install GPU Supported Tensorflow_."
   ]
  },
  {
   "cell_type": "markdown",
   "metadata": {},
   "source": [
    "Thanks Daniel Reichman for sharing his helpful notes!"
   ]
  },
  {
   "cell_type": "markdown",
   "metadata": {},
   "source": [
    "## Step 0. Install Drivers for Graphic Card"
   ]
  },
  {
   "cell_type": "markdown",
   "metadata": {},
   "source": [
    "Please go to [this Tensorflow page](https://www.tensorflow.org/install/install_linux) and [this SO page](https://stackoverflow.com/questions/30820513/what-is-version-of-cuda-for-nvidia-304-125/30820690#30820690) to determine which CUDA & nvidia drivers are supported for the TF version you want to install."
   ]
  },
  {
   "cell_type": "markdown",
   "metadata": {},
   "source": [
    "If you have a new computer and haven't installed the driver for graphic card yet, just open **Settings**, then click **Software & Updates**, choose **Additional Drivers** tab, select 'Using NVIDIA binary driver' (I'm using a GTX1080 Ti, ver 384 is the latest driver) then click 'Apply Changes'"
   ]
  },
  {
   "cell_type": "markdown",
   "metadata": {},
   "source": [
    "![Additional Drivers](./pics/additional_drivers.png)"
   ]
  },
  {
   "cell_type": "markdown",
   "metadata": {},
   "source": [
    "You'll have driver installed after restart the machine."
   ]
  },
  {
   "cell_type": "markdown",
   "metadata": {},
   "source": [
    "If you already know the specific driver version, you can also do \n",
    "```bash\n",
    "sudo apt-mark hold nvidia-[ver number]\n",
    "```\n",
    "to make sure you have exactly the version you want."
   ]
  },
  {
   "cell_type": "markdown",
   "metadata": {},
   "source": [
    "To verify you have the driver properly installed, use the following command:\n",
    "```Shell\n",
    "lspci | grep -i nvidia\n",
    "```\n",
    "You shall see something like this:"
   ]
  },
  {
   "cell_type": "markdown",
   "metadata": {},
   "source": [
    "![card info](./pics/nvidia_info.png)"
   ]
  },
  {
   "cell_type": "markdown",
   "metadata": {},
   "source": [
    "If you had any problem with the drivers, [this page](http://www.linuxandubuntu.com/home/how-to-install-latest-nvidia-drivers-in-linux) might be helpful. You can also do\n",
    "```bash\n",
    "sudo apt-get purge nvidia*\n",
    "sudo apt-get purge cuda*\n",
    "sudo apt-get remove libcupti-dev\n",
    "```\n",
    "and delete all files to start over."
   ]
  },
  {
   "cell_type": "markdown",
   "metadata": {},
   "source": [
    "## Step 1. CUDA® Toolkit 8.0"
   ]
  },
  {
   "cell_type": "markdown",
   "metadata": {},
   "source": [
    "You can find a detailed (but might not very helpful) guide from [Nvidia's website](http://docs.nvidia.com/cuda/cuda-installation-guide-linux/#axzz4VZnqTJ2A). Here is the gist and some necessary steps not mentioned."
   ]
  },
  {
   "cell_type": "markdown",
   "metadata": {},
   "source": [
    "### Requirements:\n",
    "1. CUDA-capable GPU\n",
    "2. A supported version of Linux with a gcc compiler and toolchain"
   ]
  },
  {
   "cell_type": "markdown",
   "metadata": {},
   "source": [
    "### Install CUDA"
   ]
  },
  {
   "cell_type": "markdown",
   "metadata": {},
   "source": [
    "Go to [CUDA download page](https://developer.nvidia.com/cuda-downloads), and select the following install method:"
   ]
  },
  {
   "cell_type": "markdown",
   "metadata": {},
   "source": [
    "![cuda install](./pics/cuda_install.png)"
   ]
  },
  {
   "cell_type": "markdown",
   "metadata": {},
   "source": [
    "All my selections are marked in darker green, you can switch based on your situation, but please make sure you are choosing **deb(local)**. If use runfile, you have to shutdown the [X server](https://askubuntu.com/questions/7881/what-is-the-x-server), which can be annoying."
   ]
  },
  {
   "cell_type": "markdown",
   "metadata": {},
   "source": [
    "Tips: You can do `sudo apt-get install [package name] -y` to avoid press \"y\" for installation."
   ]
  },
  {
   "cell_type": "markdown",
   "metadata": {},
   "source": [
    "After downloading the deb file, cd to directory where you put the file, do the following commands:\n",
    "```Shell\n",
    "sudo dpkg -i cuda-repo-ubuntu1404_8.0.61-1_amd64.deb\n",
    "sudo apt-get update\n",
    "sudo apt-get install cuda\n",
    "```"
   ]
  },
  {
   "cell_type": "markdown",
   "metadata": {},
   "source": [
    "The name of the deb file might be different for different cuda (CUDA 8 here) and ubuntu version (14.04 here)."
   ]
  },
  {
   "cell_type": "markdown",
   "metadata": {},
   "source": [
    "### Add CUDA to Path"
   ]
  },
  {
   "cell_type": "markdown",
   "metadata": {},
   "source": [
    "You need to add CUDA to **PATH** for setting up the enviornment, just tpye in the following command:\n",
    "```Shell\n",
    "export PATH=/usr/local/cuda-8.0/bin${PATH:+:${PATH}}\n",
    "```"
   ]
  },
  {
   "cell_type": "markdown",
   "metadata": {},
   "source": [
    "You also need to include lib to **LD_LIBRARY_PATH**:\n",
    "```Shell\n",
    "export LD_LIBRARY_PATH=/usr/local/cuda-8.0/lib64${LD_LIBRARY_PATH:+:${LD_LIBRARY_PATH}}\n",
    "```\n",
    "For a 32bit system, use:\n",
    "```Shell\n",
    "export LD_LIBRARY_PATH=/usr/local/cuda-8.0/lib${LD_LIBRARY_PATH:+:${LD_LIBRARY_PATH}}\n",
    "```"
   ]
  },
  {
   "cell_type": "markdown",
   "metadata": {},
   "source": [
    "Now do `source ~/.bashrc` to restart terminal or reboot the computer."
   ]
  },
  {
   "cell_type": "markdown",
   "metadata": {},
   "source": [
    "### Verify CUDA Installation"
   ]
  },
  {
   "cell_type": "markdown",
   "metadata": {},
   "source": [
    "This step **is important** because sometimes installation might fail for a variety of reasons, even if you finished the above steps, I highly recommend you take this step."
   ]
  },
  {
   "cell_type": "markdown",
   "metadata": {},
   "source": [
    "1. Install writable samples (these samples can go to anywhere):\n",
    "```Shell\n",
    "cuda-install-samples-8.0.sh \\dir\\to\\destination\n",
    "```\n",
    "2. Make samples (this may take a long time)\n",
    "```Shell\n",
    "cd \\dir\\to\\destination\\NVIDIA_CUDA-8.0_Samples\n",
    "make\n",
    "```\n",
    "3. Run an example (now you are in dir _NVIDIA_CUDA-8.0_Samples_)\n",
    "```Shell\n",
    "cd 1_Utilities/deviceQuery\n",
    "./deviceQuery \n",
    "```"
   ]
  },
  {
   "cell_type": "markdown",
   "metadata": {},
   "source": [
    "If CUDA is successfully installed, you are expected to see something like this:"
   ]
  },
  {
   "cell_type": "markdown",
   "metadata": {},
   "source": [
    "![deviceQuery](./pics/device_query.png)"
   ]
  },
  {
   "cell_type": "markdown",
   "metadata": {},
   "source": [
    "I have two GTX1080 Ti in my computer, and as you can see both of the GPUs have been detected. You might see something different but corresponding to your GPUs."
   ]
  },
  {
   "cell_type": "markdown",
   "metadata": {},
   "source": [
    "If verification fails, run the following command\n",
    "```bash\n",
    "sudo dmesg | grep NVRM\n",
    "```\n",
    "to get more info and also refer to [this page](https://devtalk.nvidia.com/default/topic/876432/cuda-setup-and-installation/no-cuda-capable-device-is-detected/)"
   ]
  },
  {
   "cell_type": "markdown",
   "metadata": {},
   "source": [
    "## Step 2. Install cuDNN"
   ]
  },
  {
   "cell_type": "markdown",
   "metadata": {},
   "source": [
    "Go to [Nvidia's cuDNN page](https://developer.nvidia.com/cudnn) for downloading, you need to sign in first if you don't have an Nvidia account before."
   ]
  },
  {
   "cell_type": "markdown",
   "metadata": {},
   "source": [
    "After finishing the registration, agree their terms and select the cuDNN version to download. But be very careful, Tensorflow now only works with **cuDNN v6.0** (though the latest version is v7.02). We just installed CUDA 8, so we'll download cuDNN v6.0 with CUDA 8."
   ]
  },
  {
   "cell_type": "markdown",
   "metadata": {},
   "source": [
    "![cudnn](./pics/cudnn.png)"
   ]
  },
  {
   "cell_type": "markdown",
   "metadata": {},
   "source": [
    "Please notice the links in black blocks are what you need to download. You might download different runtime libarry, developer library and code samples based on your ubuntu version."
   ]
  },
  {
   "cell_type": "markdown",
   "metadata": {},
   "source": [
    "The above is true up until now (09/21/2017), make sure you check [tensorflow gpu guide](https://www.tensorflow.org/install/install_linux) first."
   ]
  },
  {
   "cell_type": "markdown",
   "metadata": {},
   "source": [
    "### Install Library"
   ]
  },
  {
   "cell_type": "markdown",
   "metadata": {},
   "source": [
    "Extract the cuDNN archive to a directory of your choice, the path to that directory will be referred as **`<installpath>`** in the following commands. The extracted folder should have a name of **cuda**."
   ]
  },
  {
   "cell_type": "markdown",
   "metadata": {},
   "source": [
    "```Shell\n",
    "cd <installpath>/lib\n",
    "export LD_LIBRARY_PATH=`pwd`:$LD_LIBRARY_PATH\n",
    "```"
   ]
  },
  {
   "cell_type": "markdown",
   "metadata": {},
   "source": [
    "You also need to link the includes and library to your compiler:\n",
    "```Shell\n",
    "export CPPFLAGS='-I<installpath>/include'\n",
    "export LDFLAGS='-L<installpath>/lib64'\n",
    "```\n",
    "If you are using a 32 bit system:\n",
    "```Shell\n",
    "export CPPFLAGS='-I<installpath>/include'\n",
    "export LDFLAGS='-L<installpath>/lib'\n",
    "```"
   ]
  },
  {
   "cell_type": "markdown",
   "metadata": {},
   "source": [
    "You do not need to do ./configure here."
   ]
  },
  {
   "cell_type": "markdown",
   "metadata": {},
   "source": [
    "### Install deb"
   ]
  },
  {
   "cell_type": "markdown",
   "metadata": {},
   "source": [
    "You need to install **Runtime Library**, **Developer Library** and **Code Samples and User Guide** at this step. You have already downloaded them, just cd to the folder and:\n",
    "```Shell\n",
    "sudo dpkg -i libcudnn6_6.0.21-1+cuda8.0_amd64.deb\n",
    "sudo dpkg -i libcudnn6-dev_6.0.21-1+cuda8.0_amd64.deb \n",
    "sudo dpkg -i libcudnn6-doc_6.0.21-1+cuda8.0_amd64.deb \n",
    "```"
   ]
  },
  {
   "cell_type": "markdown",
   "metadata": {},
   "source": [
    "Note the files names might be different"
   ]
  },
  {
   "cell_type": "markdown",
   "metadata": {},
   "source": [
    "## Step 3.  Install libcupti-dev Library"
   ]
  },
  {
   "cell_type": "markdown",
   "metadata": {},
   "source": [
    "lipcupti-dev is the NVIDIA CUDA Profile Tools Interface. This step is super easy:\n",
    "```Shell\n",
    "sudo apt-get install libcupti-dev\n",
    "```"
   ]
  },
  {
   "cell_type": "markdown",
   "metadata": {},
   "source": [
    "## Step 4. Install GPU Supported Tensorflow"
   ]
  },
  {
   "cell_type": "markdown",
   "metadata": {},
   "source": [
    "There are [many ways to install tensorflow](https://www.tensorflow.org/install/install_linux#determine_how_to_install_tensorflow), but I still recommend installing with anaconda. It can help you maintain seperate virtual environments, which could be extremly useful if you are working on multiple projects and they use diffrent version of python or libraries (or the machine is shared by different students)."
   ]
  },
  {
   "cell_type": "markdown",
   "metadata": {},
   "source": [
    "### Download Anaconda"
   ]
  },
  {
   "cell_type": "markdown",
   "metadata": {},
   "source": [
    "Just go to [Anaconda's webpage](https://www.anaconda.com/download/), download the version you would like to use (I'll use Python 3.6 for the rest of this tutorial). Then use the command (assume you put them into Downloads):"
   ]
  },
  {
   "cell_type": "markdown",
   "metadata": {},
   "source": [
    "```Shell\n",
    "bash ~/Downloads/Anaconda3-4.4.0-Linux-x86_64.sh\n",
    "```"
   ]
  },
  {
   "cell_type": "markdown",
   "metadata": {},
   "source": [
    "If you are using Python 2.7, do:\n",
    "```Shell\n",
    "bash ~/Downloads/Anaconda2-4.4.0-Linux-x86_64.sh\n",
    "```"
   ]
  },
  {
   "cell_type": "markdown",
   "metadata": {},
   "source": [
    "### Create Conda Virtual Environment"
   ]
  },
  {
   "cell_type": "markdown",
   "metadata": {},
   "source": [
    "I've made a [yaml file](./scripts/environment.yml) for creating a virtual environment. Just a Python 3.6 version with few frequently used packages, we can add more to this list in the future, so the new student or new computer can get startted much easier."
   ]
  },
  {
   "cell_type": "markdown",
   "metadata": {},
   "source": [
    "Go to the folder where you put that **environment.yml** file, and use the command:\n",
    "```Shell\n",
    "conda env create\n",
    "```"
   ]
  },
  {
   "cell_type": "markdown",
   "metadata": {},
   "source": [
    "After the process finished, you shall have a conda virtual env named 'tf-aml'. You can do:\n",
    "```Shell\n",
    "source activate tf-aml\n",
    "source deactivate\n",
    "```\n",
    "To enter or exit the virtual environment. For more instructions of using conda, you can refer to this [cheat sheet](https://conda.io/docs/_downloads/conda-cheatsheet.pdf)"
   ]
  },
  {
   "cell_type": "markdown",
   "metadata": {},
   "source": [
    "Now let's enter the virtual environment, then use the following command:\n",
    "```Shell\n",
    "pip install --ignore-installed --upgrade https://storage.googleapis.com/tensorflow/linux/gpu/tensorflow_gpu-1.3.0-cp36-cp36m-linux_x86_64.whl\n",
    "```\n",
    "The link should be the corresponding version you find at [this page](https://www.tensorflow.org/install/install_linux#the_url_of_the_tensorflow_python_package)"
   ]
  },
  {
   "cell_type": "markdown",
   "metadata": {},
   "source": [
    "Now if everything goes well, you have GPU supported tensorflow installed on your computer."
   ]
  },
  {
   "cell_type": "markdown",
   "metadata": {},
   "source": [
    "### Jupyter Notebook & Verify Install"
   ]
  },
  {
   "cell_type": "markdown",
   "metadata": {},
   "source": [
    "You can test to verify if you have sucessfully installed the tensorflow now by run this [short program](https://www.tensorflow.org/install/install_linux#run_a_short_tensorflow_program). But in this document let's try to do with jupyter notebook."
   ]
  },
  {
   "cell_type": "markdown",
   "metadata": {},
   "source": [
    "First activate the **tf-aml** virtual environment, then use the following command\n",
    "```Shell\n",
    "conda install nb_conda\n",
    "```\n",
    "This will \"link\" your **tf-aml** jupyter notebook so that the jupyter notebook can find your kernel."
   ]
  },
  {
   "cell_type": "markdown",
   "metadata": {},
   "source": [
    "Now type 'jupyter notebook' in command line, a webpage will be open. Go to the folder where you put this file (you can either clone thie repo or download this file to your computer), open this file. You need to change the kernel to tf-aml before running the program."
   ]
  },
  {
   "cell_type": "markdown",
   "metadata": {},
   "source": [
    "![change kernel](./pics/change_kernel.png)"
   ]
  },
  {
   "cell_type": "markdown",
   "metadata": {},
   "source": [
    "Now click the cells below, use **Ctrl+Enter** to execute the cell: "
   ]
  },
  {
   "cell_type": "code",
   "execution_count": 8,
   "metadata": {},
   "outputs": [
    {
     "name": "stdout",
     "output_type": "stream",
     "text": [
      "b'Hello, TensorFlow!'\n"
     ]
    }
   ],
   "source": [
    "import tensorflow as tf\n",
    "hello = tf.constant('Hello, TensorFlow!')\n",
    "sess = tf.Session()\n",
    "print(sess.run(hello))"
   ]
  },
  {
   "cell_type": "code",
   "execution_count": 9,
   "metadata": {},
   "outputs": [
    {
     "name": "stdout",
     "output_type": "stream",
     "text": [
      "['device: 0, name: GeForce GTX 1080 Ti, pci bus id: 0000:01:00.0', 'device: 1, name: GeForce GTX 1080 Ti, pci bus id: 0000:02:00.0']\n"
     ]
    }
   ],
   "source": [
    "from tensorflow.python.client import device_lib\n",
    "\n",
    "local_device_protos = device_lib.list_local_devices()\n",
    "print([x.physical_device_desc for x in local_device_protos if x.device_type == 'GPU'])"
   ]
  },
  {
   "cell_type": "markdown",
   "metadata": {},
   "source": [
    "You shall see the first cell print the exact same thing as I have here in this notebook, the second cell will print out your gpu info."
   ]
  },
  {
   "cell_type": "markdown",
   "metadata": {},
   "source": [
    "If the above two cells can be executed withour error, then **congradualations you have the GPU supported Tensorflow installed : )**"
   ]
  },
  {
   "cell_type": "markdown",
   "metadata": {},
   "source": [
    "## Bonus: Setting Up Pycharm's Interpreter"
   ]
  },
  {
   "cell_type": "markdown",
   "metadata": {},
   "source": [
    "If you are using Pycharm as IDE, you might not know how to use **tf-aml** when running files. It's actually pretty easy, just go to settings, and set the project interpreter to tf-aml."
   ]
  },
  {
   "cell_type": "markdown",
   "metadata": {},
   "source": [
    "![pycharm kernel](./pics/pycharm_kernel.png)"
   ]
  },
  {
   "cell_type": "code",
   "execution_count": null,
   "metadata": {
    "collapsed": true
   },
   "outputs": [],
   "source": []
  }
 ],
 "metadata": {
  "kernelspec": {
   "display_name": "Python 3",
   "language": "python",
   "name": "python3"
  },
  "language_info": {
   "codemirror_mode": {
    "name": "ipython",
    "version": 3
   },
   "file_extension": ".py",
   "mimetype": "text/x-python",
   "name": "python",
   "nbconvert_exporter": "python",
   "pygments_lexer": "ipython3",
   "version": "3.6.3"
  }
 },
 "nbformat": 4,
 "nbformat_minor": 2
}
