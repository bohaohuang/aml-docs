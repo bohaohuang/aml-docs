{
 "cells": [
  {
   "cell_type": "markdown",
   "metadata": {},
   "source": [
    "# XSEDE Cluster User Guide"
   ]
  },
  {
   "cell_type": "markdown",
   "metadata": {},
   "source": [
    "### Get Access of XSEDE"
   ]
  },
  {
   "cell_type": "markdown",
   "metadata": {},
   "source": [
    "1. Create a new count via [this link](https://portal.xsede.org/web/xup/my-xsede?p_p_id=58&p_p_lifecycle=0&p_p_state=maximized&p_p_mode=view&saveLastPath=0&_58_struts_action=%2Flogin%2Fcreate_account)\n",
    "2. Email [Tom Milledge](tom.milledge@duke.edu) about your username to add you into **Campus Champion allocation**\n",
    "3. Once logged in, enable multi-factor authentication with [Duo](https://portal.xsede.org/mfa). This is required for multiple clusters."
   ]
  },
  {
   "cell_type": "markdown",
   "metadata": {},
   "source": [
    "---"
   ]
  },
  {
   "cell_type": "markdown",
   "metadata": {},
   "source": [
    "# XSEDE Bridges"
   ]
  },
  {
   "cell_type": "markdown",
   "metadata": {},
   "source": [
    "The user guide can be found [here](https://portal.xsede.org/psc-bridges).  \n",
    "For more detaied information about using SSH and slurm please refer to [this document](dcc-cluster.ipynb)"
   ]
  },
  {
   "cell_type": "markdown",
   "metadata": {},
   "source": [
    "---"
   ]
  },
  {
   "cell_type": "markdown",
   "metadata": {},
   "source": [
    "### Connect to Bridge"
   ]
  },
  {
   "cell_type": "markdown",
   "metadata": {},
   "source": [
    "Use SSH to login, the command is:\n",
    "```\n",
    "ssh [username]@bridges.psc.xsede.org -p 2222\n",
    "```\n",
    "or  \n",
    "```\n",
    "ssh [username]@bridges.psc.edu -p 2222\n",
    "```\n",
    "Both hostname will take you the the same place, but the port number must be 2222."
   ]
  },
  {
   "cell_type": "markdown",
   "metadata": {},
   "source": [
    "### Charges"
   ]
  },
  {
   "cell_type": "markdown",
   "metadata": {},
   "source": [
    "- K80 node: 1 GPU-hour = 1 SU\n",
    "    - 4 units each node\n",
    "    - 4 SUs if using an entire K80\n",
    "- P100 node: 1 GPU-hour = 2.5 SUs\n",
    "    - 2 units each node\n",
    "    - 5 SUs if using an entire P100"
   ]
  },
  {
   "cell_type": "markdown",
   "metadata": {},
   "source": [
    "---"
   ]
  },
  {
   "cell_type": "markdown",
   "metadata": {},
   "source": [
    "## File Spaces"
   ]
  },
  {
   "cell_type": "markdown",
   "metadata": {},
   "source": [
    "### Home (\\$HOME)"
   ]
  },
  {
   "cell_type": "markdown",
   "metadata": {},
   "source": [
    "Your home directory on Bridges:\n",
    "- Place for batch scripts, source code and parameter files\n",
    "- The path is /home/username\n",
    "- **10GB quota**, use *quota* command to see your usage"
   ]
  },
  {
   "cell_type": "markdown",
   "metadata": {},
   "source": [
    "### pylon2 (\\$PROJECT)"
   ]
  },
  {
   "cell_type": "markdown",
   "metadata": {},
   "source": [
    "Persistent file system:\n",
    "- Place for long-term storage files (store dataset)\n",
    "- The path is /pylon2/groupname/username (use *id* command to find your group)"
   ]
  },
  {
   "cell_type": "markdown",
   "metadata": {},
   "source": [
    "### pylon5 (\\$SCRATCH)"
   ]
  },
  {
   "cell_type": "markdown",
   "metadata": {},
   "source": [
    "Temporary storage:\n",
    "- Place as a workplace for running jobs (extracted patches, models) $\\leftarrow$ fastest I/O (faster than *home* directory)\n",
    "- The path is /pylon5/groupname/username\n",
    "- Files will be **wiped every 30 days** and **not backed up**"
   ]
  },
  {
   "cell_type": "markdown",
   "metadata": {},
   "source": [
    "----"
   ]
  },
  {
   "cell_type": "markdown",
   "metadata": {},
   "source": [
    "# Comet"
   ]
  },
  {
   "cell_type": "markdown",
   "metadata": {},
   "source": [
    "The user guide can be found [here](https://portal.xsede.org/sdsc-comet#appdev).  \n",
    "For more detaied information about using SSH and slurm please refer to [this document](dcc-cluster.ipynb)"
   ]
  },
  {
   "cell_type": "markdown",
   "metadata": {},
   "source": [
    "### Connect to Comet"
   ]
  },
  {
   "cell_type": "markdown",
   "metadata": {},
   "source": [
    "`ssh [userid]@comet.sdsc.xsede.org`"
   ]
  },
  {
   "cell_type": "markdown",
   "metadata": {},
   "source": [
    "### File System"
   ]
  },
  {
   "cell_type": "markdown",
   "metadata": {},
   "source": [
    "1. Lustre scratch filesystem : /oasis/scratch/comet/\\$USER/temp_project (Preferred: Scalable large block I/O)\n",
    "2. Compute/GPU node local SSD storage: /scratch/\\$USER/\\$SLURM_JOBID (Meta-data intensive jobs, high IOPs)\n",
    "3. Lustre projects filesystem: /oasis/projects/nsf\n",
    "4. /home/\\$USER : Only for source files, libraries, binaries. *Do not* use for I/O intensive jobs."
   ]
  },
  {
   "cell_type": "markdown",
   "metadata": {},
   "source": [
    "---"
   ]
  },
  {
   "cell_type": "markdown",
   "metadata": {},
   "source": [
    "# XStream"
   ]
  },
  {
   "cell_type": "markdown",
   "metadata": {},
   "source": [
    "The user guide can be found [here](https://portal.xsede.org/stanford-xstream).  \n",
    "For more detaied information about using SSH and slurm please refer to [this document](dcc-cluster.ipynb)"
   ]
  },
  {
   "cell_type": "markdown",
   "metadata": {},
   "source": [
    "---"
   ]
  },
  {
   "cell_type": "markdown",
   "metadata": {},
   "source": [
    "### Connect to XStream"
   ]
  },
  {
   "cell_type": "markdown",
   "metadata": {},
   "source": [
    "- [XSEDE Single Sign-On Hub](https://portal.xsede.org/single-sign-on-hub) is recommended for logging in. \n",
    "- [Multi-Factor Autentication with Duo](https://portal.xsede.org/mfa) is required to setup before login"
   ]
  },
  {
   "cell_type": "markdown",
   "metadata": {},
   "source": [
    "1. Login to Single Sign-On Hub: `ssh [userid]@login.xsede.org`\n",
    "2. Login to xstream: `gsissh xstream`"
   ]
  },
  {
   "cell_type": "code",
   "execution_count": null,
   "metadata": {
    "collapsed": true
   },
   "outputs": [],
   "source": []
  }
 ],
 "metadata": {
  "kernelspec": {
   "display_name": "Python 3",
   "language": "python",
   "name": "python3"
  },
  "language_info": {
   "codemirror_mode": {
    "name": "ipython",
    "version": 3
   },
   "file_extension": ".py",
   "mimetype": "text/x-python",
   "name": "python",
   "nbconvert_exporter": "python",
   "pygments_lexer": "ipython3",
   "version": "3.6.3"
  }
 },
 "nbformat": 4,
 "nbformat_minor": 2
}
