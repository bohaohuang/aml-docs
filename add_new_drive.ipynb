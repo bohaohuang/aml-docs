{
 "cells": [
  {
   "cell_type": "markdown",
   "metadata": {
    "collapsed": true
   },
   "source": [
    "# Install A New Drive on Ubuntu Machine"
   ]
  },
  {
   "cell_type": "markdown",
   "metadata": {},
   "source": [
    "1. Install the drive on the tray, connect SATA cable and power cable\n",
    "2. Follow [this tutorial](https://askubuntu.com/a/125277), but do `/dev/sdb1 /hdd /ext4 defaults,user 0 0` for step 2.2\n",
    "3. Do `gksudo nautilus` (open nautilus as sudo), right click `/hdd` folder, select permission tab and change permission of the group to 'create and delete files'"
   ]
  },
  {
   "cell_type": "code",
   "execution_count": null,
   "metadata": {},
   "outputs": [],
   "source": []
  }
 ],
 "metadata": {
  "kernelspec": {
   "display_name": "Python 2",
   "language": "python",
   "name": "python2"
  },
  "language_info": {
   "codemirror_mode": {
    "name": "ipython",
    "version": 2
   },
   "file_extension": ".py",
   "mimetype": "text/x-python",
   "name": "python",
   "nbconvert_exporter": "python",
   "pygments_lexer": "ipython2",
   "version": "2.7.6"
  }
 },
 "nbformat": 4,
 "nbformat_minor": 0
}
