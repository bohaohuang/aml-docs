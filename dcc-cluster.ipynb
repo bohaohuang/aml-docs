{
 "cells": [
  {
   "cell_type": "markdown",
   "metadata": {},
   "source": [
    "# Access to Duke OIT Cluster Energy Group"
   ]
  },
  {
   "cell_type": "markdown",
   "metadata": {},
   "source": [
    "You can find more information on [OIT's DCC workshop slides](https://rc.duke.edu/wp-content/uploads/DCC_Workshop_04-13-2017.pdf)"
   ]
  },
  {
   "cell_type": "markdown",
   "metadata": {},
   "source": [
    "### Create New Account"
   ]
  },
  {
   "cell_type": "markdown",
   "metadata": {},
   "source": [
    "Go to [OIT cluster's webpage](https://rcforms.oit.duke.edu/dscr-new-user-account/), fill out the form. Select `collinslab` in `Duke Compute Cluster group`. You will receive a ticket number then. After comfirming by POC (Jordan or Leslie) you can have access to DCC."
   ]
  },
  {
   "cell_type": "markdown",
   "metadata": {},
   "source": [
    "### Access DCC"
   ]
  },
  {
   "cell_type": "markdown",
   "metadata": {},
   "source": [
    "The host name are:\n",
    "- `dcc-slogin-01.oit.duke.edu`\n",
    "- `dcc-slogin-02.oit.duke.edu`  "
   ]
  },
  {
   "cell_type": "markdown",
   "metadata": {},
   "source": [
    "There's no difference of these two names, you will login to the same directory (/dsrchome/[your netid])"
   ]
  },
  {
   "cell_type": "markdown",
   "metadata": {},
   "source": [
    "If you are off campus, you can either:\n",
    "- `ssh NetID@login.oit.duke.edu` then ssh either of the two hosts names above\n",
    "- use [Duke VPN](hips://oit.duke.edu/net-security/network/remote/vpn/) then ssh"
   ]
  },
  {
   "cell_type": "markdown",
   "metadata": {},
   "source": [
    "### Data Storage"
   ]
  },
  {
   "cell_type": "markdown",
   "metadata": {},
   "source": [
    "1. /dscrhome\n",
    "    * Your login directory\n",
    "    * 250 GB group quota\n",
    "2. /work\n",
    "    * 200 TB unpartitioned \n",
    "    * Designed for temporary large data files storage (No backup)\n",
    "    * 27 TB available now (09/15/2017)\n",
    "3. /datacommons\n",
    "    * $82/TB/year"
   ]
  },
  {
   "cell_type": "markdown",
   "metadata": {},
   "source": [
    "**Usage of data storage space**:\n",
    "1. You should always put your codes/scripts in `/dscrhome`. But never put data or temporary large files in this directory.\n",
    "2. For data/models/sigularity images, please put them in `/work`.\n",
    "3. I have a copy of UAB datasets in `/work/bh163/uab_datasets`. You can point to this directory in your `uabRepoPaths.py` to avoid redundant data copies"
   ]
  },
  {
   "cell_type": "markdown",
   "metadata": {},
   "source": [
    "### Copy files"
   ]
  },
  {
   "cell_type": "markdown",
   "metadata": {},
   "source": [
    "#### push"
   ]
  },
  {
   "cell_type": "markdown",
   "metadata": {},
   "source": [
    "- file\n",
    "```Shell\n",
    "scp path/to/file netid@dcc-slogin-01.oit.duke.edu:path/to/destination\n",
    "```\n",
    "\n",
    "- directory\n",
    "```Shell\n",
    "scp -r path/to/dir netid@dcc-slogin-01.oit.duke.edu:path/to/destination\n",
    "```"
   ]
  },
  {
   "cell_type": "markdown",
   "metadata": {},
   "source": [
    "#### pull"
   ]
  },
  {
   "cell_type": "markdown",
   "metadata": {},
   "source": [
    "- file\n",
    "```Shell\n",
    "scp netid@dcc-slogin-01.oit.duke.edu:path/to/file\n",
    "```\n",
    "\n",
    "- directory\n",
    "```Shell\n",
    "scp -r netid@dcc-slogin-01.oit.duke.edu:path/to/dir path/to/dir\n",
    "```"
   ]
  },
  {
   "cell_type": "markdown",
   "metadata": {},
   "source": [
    "#### Large file/dir"
   ]
  },
  {
   "cell_type": "markdown",
   "metadata": {},
   "source": [
    "```Shell\n",
    "rsync -av path/to/file netid@scc-slogin-01.oit.duke.edu:path/to/file\n",
    "rsync -av netid@scc-slogin-01.oit.edu:path/to/file\n",
    "```"
   ]
  },
  {
   "cell_type": "markdown",
   "metadata": {},
   "source": [
    "However, I recommend using GUI for transferring files:"
   ]
  },
  {
   "cell_type": "markdown",
   "metadata": {},
   "source": [
    "#### Windows Users"
   ]
  },
  {
   "cell_type": "markdown",
   "metadata": {},
   "source": [
    "You can use [WinSCP](hips://winscp.net) for copying files (actually more convenient)"
   ]
  },
  {
   "cell_type": "markdown",
   "metadata": {},
   "source": [
    "#### Linux Users"
   ]
  },
  {
   "cell_type": "markdown",
   "metadata": {},
   "source": [
    "You can use `Nautilus`, select `Connect to Server` at the left panel. Then type in the server address:\n",
    "- To connect to home directory, use: sftp://[your netid]@dcc-slogin-01.oit.duke.edu/hpchome/collinslab/[your netid]\n",
    "- To connect to work directory, use: sftp://[your netid]@dcc-slogin-01.oit.duke.edu/work/[your netid]"
   ]
  },
  {
   "cell_type": "markdown",
   "metadata": {},
   "source": [
    "### Installed Tools"
   ]
  },
  {
   "cell_type": "markdown",
   "metadata": {},
   "source": [
    "- Matlab: `/opt/apps/matlabR2016a/bin/matlab` (latest version on DCC, also has 08b, 14a, 15a)\n",
    "- Python: `/opt/apps/Python-2.7.10` (also has 2.7.3, 2.7.5, 3.3.2, 3.3.3)\n",
    "- R `/opt/apps/R-3.0.3`\n",
    "- Other tools in `/opt/apps/rhel7`:\n",
    "    * anaconda 2\n",
    "    * anaconda 3\n",
    "    * Python\n",
    "    * R\n",
    "- Other tools in `/opt/apps/slurm`:\n",
    "    * miniconda 3\n",
    "    * Torch 7"
   ]
  },
  {
   "cell_type": "markdown",
   "metadata": {},
   "source": [
    "You'll need to know the location of those tools when deploying job"
   ]
  },
  {
   "cell_type": "markdown",
   "metadata": {
    "collapsed": true
   },
   "source": [
    "# Deploying Jobs"
   ]
  },
  {
   "cell_type": "markdown",
   "metadata": {},
   "source": [
    "## Matlab"
   ]
  },
  {
   "cell_type": "markdown",
   "metadata": {},
   "source": [
    "To deploy a job in Matlab, you can use a shell script like this (also avilable at [here](./scripts/matlab_sbatch_example.sh)):\n",
    "```Shell\n",
    "#!/bin/bash\n",
    "#SBATCH -e slurm.err                         # error message will be stored in slurm.err\n",
    "#SBATCH --mem=20G                            # request 20G for ram\n",
    "#SBATCH -c 6                                 # 6 cpu cores\n",
    "#SBATCH -p gpu-common --gres=gpu:1           # request for 1 gpu\n",
    "/opt/apps/matlabR2016a/bin/matlab -nojvm -nodisplay -singleCompThread -r mycode.m > file.out\n",
    "```"
   ]
  },
  {
   "cell_type": "markdown",
   "metadata": {},
   "source": [
    "The last line is the same as how you run a matlab file in linux system. \n",
    "- `/opt/apps/matlabR2016a/bin/matlab`: just specifies which matlab version you are going to use, you can use other ones as I listed in _Installed Tools_. \n",
    "- `-nojvm`: run without java virtual machine\n",
    "- `-nodisplay` disables the display (since you are using a command line) \n",
    "- `-singleCompThread`: is said to be 'required to prevent uncontrolled multi-threading'."
   ]
  },
  {
   "cell_type": "markdown",
   "metadata": {},
   "source": [
    "Then in the command line, do:\n",
    "```Shell\n",
    "sbatch shellscript.sh\n",
    "```"
   ]
  },
  {
   "cell_type": "markdown",
   "metadata": {},
   "source": [
    "## Python"
   ]
  },
  {
   "cell_type": "markdown",
   "metadata": {},
   "source": [
    "The default Python version on DCC is 2.7. If you want to use Python 3, Run command:\n",
    "```Shell\n",
    "export PATH=/opt/apps/rhel7/anaconda3/bin:$PATH\n",
    "```\n",
    "\n",
    "Or add\n",
    "```Shell\n",
    "export PATH=/opt/apps/rhel7/anaconda3/bin:$PATH\n",
    "```\n",
    "to the end of the `.bash_profile`."
   ]
  },
  {
   "cell_type": "markdown",
   "metadata": {},
   "source": [
    "The GPU supported version of Tensorflow has been installed and tested for Python 3."
   ]
  },
  {
   "cell_type": "markdown",
   "metadata": {},
   "source": [
    "To deploy a job in Python, you can use a shell script like this (also avilable at [here](./scripts/python_sbatch_example.sh)):\n",
    "```Shell\n",
    "#!/bin/bash\n",
    "#SBATCH -e slurm.err                                                   # error log file\n",
    "#SBATCH --mem=20G                                                      # request 20G memory\n",
    "#SBATCH -c 6                                                           # request 6 gpu cores\n",
    "#SBATCH --exclude=dcc-gpu-[31-32]                                      # exclude GPUs (those two have less than 4G RAM)\n",
    "#SBATCH -p gpu-common --gres=gpu:1                                     # request 1 gpu for this job\n",
    "module load Anaconda3/3.5.2                                            # load conda to make sure use GPU version of tf\n",
    "# add cuda and cudnn path\n",
    "export LD_LIBRARY_PATH=/usr/local/cuda/lib64:$LD_LIBRARY_PATH\n",
    "export LD_LIBRARY_PATH=/opt/apps/rhel7/cudnn/lib64:$LD_LIBRARY_PATH\n",
    "# add my library path\n",
    "export PYTHONPATH=$PYTHONPATH:/dscrhome/bh163/code/uab\n",
    "# execute my file\n",
    "python train_spca_unet_psbs.py\n",
    "```"
   ]
  },
  {
   "cell_type": "markdown",
   "metadata": {},
   "source": [
    "For more information about slurm commands, you can refer to [dcc workshop slides](https://rc.duke.edu/wp-content/uploads/DCC_Workshop_04-13-2017.pdf) and [slurm cheat sheet](https://slurm.schedmd.com/pdfs/summary.pdf)"
   ]
  },
  {
   "cell_type": "markdown",
   "metadata": {},
   "source": [
    "Note, the second last line `export LD_LIBRARY_...` is necessary when using Tensorflow otherwise the interpreter can't find tensorflow when you run your code."
   ]
  },
  {
   "cell_type": "markdown",
   "metadata": {},
   "source": [
    "Then in the command line, do:\n",
    "```Shell\n",
    "sbatch shellscript.sh\n",
    "```"
   ]
  },
  {
   "cell_type": "markdown",
   "metadata": {
    "collapsed": true
   },
   "source": [
    "## View Results"
   ]
  },
  {
   "cell_type": "markdown",
   "metadata": {},
   "source": [
    "After submitting your job, you shall see a message like 'Submitted batch job [job number]'. To view the status of your job, use the comman 'squeue -u [your netid]'. And you can get either of the three following status:"
   ]
  },
  {
   "cell_type": "markdown",
   "metadata": {},
   "source": [
    "![Pending](./pics/PD_job.PNG)"
   ]
  },
  {
   "cell_type": "markdown",
   "metadata": {},
   "source": [
    "![Running](./pics/R_job.PNG)"
   ]
  },
  {
   "cell_type": "markdown",
   "metadata": {},
   "source": [
    "![None](./pics/ST_job.PNG)"
   ]
  },
  {
   "cell_type": "markdown",
   "metadata": {},
   "source": [
    "They indicates `Pending`, `Running` and the last one is what you'll see when your job is completed."
   ]
  },
  {
   "cell_type": "markdown",
   "metadata": {},
   "source": [
    "The output result will be stored in file 'slurm-[job number].out'. If you feel the job number is too long to remember or meaningless, you can redirect the output to a file using '> [filename]' as I provided in the above two shell script examples."
   ]
  },
  {
   "cell_type": "markdown",
   "metadata": {},
   "source": [
    "## Cancel Job"
   ]
  },
  {
   "cell_type": "markdown",
   "metadata": {},
   "source": [
    "To kill a job, type\n",
    "```Shell\n",
    "scancel [job number]\n",
    "```\n",
    "or use\n",
    "```Shell\n",
    "scancel -u [netid]\n",
    "```\n",
    "to cancel all your jobs"
   ]
  },
  {
   "cell_type": "markdown",
   "metadata": {},
   "source": [
    "## View GPUs on Cluster"
   ]
  },
  {
   "cell_type": "markdown",
   "metadata": {},
   "source": [
    "To see the running and pending jobs on cluster, you can use\n",
    "```Shell\n",
    "squeue | grep dcc-gpu\n",
    "squeue | grep collinslab\n",
    "```"
   ]
  },
  {
   "cell_type": "markdown",
   "metadata": {},
   "source": [
    "To see the status of public nodes or our lab's nodes respectively. And you'll get something like this:"
   ]
  },
  {
   "cell_type": "markdown",
   "metadata": {},
   "source": [
    "![job summary](./pics/run_summary.PNG)"
   ]
  },
  {
   "cell_type": "markdown",
   "metadata": {},
   "source": [
    "To see the information of all gpus in the cluster, you can use\n",
    "```Shell\n",
    "sinfo | grep gpu-common\n",
    "sinfo | grep collinslab\n",
    "```"
   ]
  },
  {
   "cell_type": "markdown",
   "metadata": {},
   "source": [
    "And you'll get:"
   ]
  },
  {
   "cell_type": "markdown",
   "metadata": {},
   "source": [
    "![job summary](./pics/gpu_summary.PNG)"
   ]
  },
  {
   "cell_type": "markdown",
   "metadata": {},
   "source": [
    "This can help you figure out how many nodes are available or how long you might need to wait."
   ]
  },
  {
   "cell_type": "markdown",
   "metadata": {},
   "source": [
    "## Verify Your Code is Using GPU"
   ]
  },
  {
   "cell_type": "markdown",
   "metadata": {},
   "source": [
    "It has been a problem to me that sometimes I submitted my jobs but they did not use the GPU allocated. To make sure your jobs are using GPUs, use the following command:\n",
    "```Shell\n",
    "for i in `squeue -u [your netid] | grep gpu-commo | awk '{print $8}' | grep -v NODE`;do echo $i;ssh $i nvidia-smi 2> /dev/null | grep processes;done\n",
    "```"
   ]
  },
  {
   "cell_type": "markdown",
   "metadata": {},
   "source": [
    "Or you can use [this script](./scripts/gpu_usage.sh). This script will check the gpu usage of given user id in both `gpu-common` and `collinslab` allocations. The easiest way to use this script is to [add this to your bash path](https://stackoverflow.com/a/20054809). Then you can use this command:\n",
    "```\n",
    "bash gpu_usage.sh [your netid]\n",
    "```"
   ]
  },
  {
   "cell_type": "markdown",
   "metadata": {},
   "source": [
    "If you see the output like this:\n",
    "```\n",
    "dcc-gpu-14\n",
    "|  No running processes found                                                 |\n",
    "```"
   ]
  },
  {
   "cell_type": "markdown",
   "metadata": {},
   "source": [
    "Then you should terminate your job, because it is not using GPU but still occupying one."
   ]
  },
  {
   "cell_type": "markdown",
   "metadata": {
    "collapsed": true
   },
   "source": [
    "## Access Batcave Repos from DCC"
   ]
  },
  {
   "cell_type": "markdown",
   "metadata": {},
   "source": [
    "You can access repos in `batcave` by using the following instruction:  \n",
    "`git clone ssh://[your netid]@login01.egr.duke.edu/autofs/nfs4/pse-fs-00.egr.duke.edu/lcollins-00/data/data/sourceControl/[repo name].git`"
   ]
  },
  {
   "cell_type": "markdown",
   "metadata": {
    "collapsed": true
   },
   "source": [
    "## Use Filezilla"
   ]
  },
  {
   "cell_type": "markdown",
   "metadata": {},
   "source": [
    "[Filezilla](https://filezilla-project.org/) is a client that supports ftp, sftp, etc communication protocols. To use Filezilla to connect DCC, use the following setups:\n",
    "1. Host: _sftp://dcc-slogin-01.oit.duke.edu_\n",
    "2. Username: _your username_\n",
    "3. Password: _your password_\n",
    "4. Port: **22** (This is very important)"
   ]
  }
 ],
 "metadata": {
  "anaconda-cloud": {},
  "kernelspec": {
   "display_name": "Python 3",
   "language": "python",
   "name": "python3"
  },
  "language_info": {
   "codemirror_mode": {
    "name": "ipython",
    "version": 3
   },
   "file_extension": ".py",
   "mimetype": "text/x-python",
   "name": "python",
   "nbconvert_exporter": "python",
   "pygments_lexer": "ipython3",
   "version": "3.7.4"
  }
 },
 "nbformat": 4,
 "nbformat_minor": 1
}
